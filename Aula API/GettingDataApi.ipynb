{
 "cells": [
  {
   "cell_type": "code",
   "execution_count": 8,
   "id": "df0afc30",
   "metadata": {},
   "outputs": [],
   "source": [
    "import requests\n",
    "import pandas as pd\n"
   ]
  },
  {
   "cell_type": "markdown",
   "id": "c6c3729b",
   "metadata": {},
   "source": [
    "# Getting CEP information"
   ]
  },
  {
   "cell_type": "code",
   "execution_count": 2,
   "id": "ffbea7b3",
   "metadata": {},
   "outputs": [],
   "source": [
    "link_api_cep = \"https://brasilapi.com.br/api/cep/v1\"\n",
    "CEP = input(\"Digite o CEP: \")\n",
    "url_cep = f\"{link_api_cep}/{CEP}\""
   ]
  },
  {
   "cell_type": "code",
   "execution_count": 3,
   "id": "02d84488",
   "metadata": {},
   "outputs": [
    {
     "data": {
      "text/plain": [
       "200"
      ]
     },
     "execution_count": 3,
     "metadata": {},
     "output_type": "execute_result"
    }
   ],
   "source": [
    "requisicao = requests.get(url_cep)\n",
    "requisicao.status_code"
   ]
  },
  {
   "cell_type": "code",
   "execution_count": 4,
   "id": "34611aa7",
   "metadata": {},
   "outputs": [
    {
     "data": {
      "text/plain": [
       "{'cep': '04282030',\n",
       " 'state': 'SP',\n",
       " 'city': 'São Paulo',\n",
       " 'neighborhood': 'Vila Nair',\n",
       " 'street': 'Rua Jaíba',\n",
       " 'service': 'open-cep'}"
      ]
     },
     "execution_count": 4,
     "metadata": {},
     "output_type": "execute_result"
    }
   ],
   "source": [
    "requisicao.json()"
   ]
  },
  {
   "cell_type": "markdown",
   "id": "188c6d66",
   "metadata": {},
   "source": [
    "# Getting holidays information"
   ]
  },
  {
   "cell_type": "code",
   "execution_count": 5,
   "id": "a4681108",
   "metadata": {},
   "outputs": [],
   "source": [
    "ano = input('Coloque o ano que deseja pesquisar os feriados: ')\n",
    "\n",
    "url_feriados = f\"https://brasilapi.com.br/api/feriados/v1/{ano}\""
   ]
  },
  {
   "cell_type": "code",
   "execution_count": 6,
   "id": "7988f67b",
   "metadata": {},
   "outputs": [
    {
     "data": {
      "text/plain": [
       "200"
      ]
     },
     "execution_count": 6,
     "metadata": {},
     "output_type": "execute_result"
    }
   ],
   "source": [
    "requisicao_feriaodos = requests.get(url_feriados)\n",
    "requisicao_feriaodos.status_code"
   ]
  },
  {
   "cell_type": "code",
   "execution_count": 12,
   "id": "1df2663d",
   "metadata": {},
   "outputs": [],
   "source": [
    "json_feriados = requisicao_feriaodos.json()"
   ]
  },
  {
   "cell_type": "code",
   "execution_count": 14,
   "id": "c7e8f3ff",
   "metadata": {},
   "outputs": [],
   "source": [
    "df_feriados = pd.DataFrame.from_records(json_feriados)"
   ]
  },
  {
   "cell_type": "code",
   "execution_count": 15,
   "id": "21b30416",
   "metadata": {},
   "outputs": [
    {
     "data": {
      "application/vnd.microsoft.datawrangler.viewer.v0+json": {
       "columns": [
        {
         "name": "index",
         "rawType": "int64",
         "type": "integer"
        },
        {
         "name": "date",
         "rawType": "object",
         "type": "string"
        },
        {
         "name": "name",
         "rawType": "object",
         "type": "string"
        },
        {
         "name": "type",
         "rawType": "object",
         "type": "string"
        }
       ],
       "ref": "93e954cf-8044-4809-88d5-bb4761825f62",
       "rows": [
        [
         "0",
         "2025-01-01",
         "Confraternização mundial",
         "national"
        ],
        [
         "1",
         "2025-03-04",
         "Carnaval",
         "national"
        ],
        [
         "2",
         "2025-04-18",
         "Sexta-feira Santa",
         "national"
        ],
        [
         "3",
         "2025-04-20",
         "Páscoa",
         "national"
        ],
        [
         "4",
         "2025-04-21",
         "Tiradentes",
         "national"
        ],
        [
         "5",
         "2025-05-01",
         "Dia do trabalho",
         "national"
        ],
        [
         "6",
         "2025-06-19",
         "Corpus Christi",
         "national"
        ],
        [
         "7",
         "2025-09-07",
         "Independência do Brasil",
         "national"
        ],
        [
         "8",
         "2025-10-12",
         "Nossa Senhora Aparecida",
         "national"
        ],
        [
         "9",
         "2025-11-02",
         "Finados",
         "national"
        ],
        [
         "10",
         "2025-11-15",
         "Proclamação da República",
         "national"
        ],
        [
         "11",
         "2025-11-20",
         "Dia da consciência negra",
         "national"
        ],
        [
         "12",
         "2025-12-25",
         "Natal",
         "national"
        ]
       ],
       "shape": {
        "columns": 3,
        "rows": 13
       }
      },
      "text/html": [
       "<div>\n",
       "<style scoped>\n",
       "    .dataframe tbody tr th:only-of-type {\n",
       "        vertical-align: middle;\n",
       "    }\n",
       "\n",
       "    .dataframe tbody tr th {\n",
       "        vertical-align: top;\n",
       "    }\n",
       "\n",
       "    .dataframe thead th {\n",
       "        text-align: right;\n",
       "    }\n",
       "</style>\n",
       "<table border=\"1\" class=\"dataframe\">\n",
       "  <thead>\n",
       "    <tr style=\"text-align: right;\">\n",
       "      <th></th>\n",
       "      <th>date</th>\n",
       "      <th>name</th>\n",
       "      <th>type</th>\n",
       "    </tr>\n",
       "  </thead>\n",
       "  <tbody>\n",
       "    <tr>\n",
       "      <th>0</th>\n",
       "      <td>2025-01-01</td>\n",
       "      <td>Confraternização mundial</td>\n",
       "      <td>national</td>\n",
       "    </tr>\n",
       "    <tr>\n",
       "      <th>1</th>\n",
       "      <td>2025-03-04</td>\n",
       "      <td>Carnaval</td>\n",
       "      <td>national</td>\n",
       "    </tr>\n",
       "    <tr>\n",
       "      <th>2</th>\n",
       "      <td>2025-04-18</td>\n",
       "      <td>Sexta-feira Santa</td>\n",
       "      <td>national</td>\n",
       "    </tr>\n",
       "    <tr>\n",
       "      <th>3</th>\n",
       "      <td>2025-04-20</td>\n",
       "      <td>Páscoa</td>\n",
       "      <td>national</td>\n",
       "    </tr>\n",
       "    <tr>\n",
       "      <th>4</th>\n",
       "      <td>2025-04-21</td>\n",
       "      <td>Tiradentes</td>\n",
       "      <td>national</td>\n",
       "    </tr>\n",
       "    <tr>\n",
       "      <th>5</th>\n",
       "      <td>2025-05-01</td>\n",
       "      <td>Dia do trabalho</td>\n",
       "      <td>national</td>\n",
       "    </tr>\n",
       "    <tr>\n",
       "      <th>6</th>\n",
       "      <td>2025-06-19</td>\n",
       "      <td>Corpus Christi</td>\n",
       "      <td>national</td>\n",
       "    </tr>\n",
       "    <tr>\n",
       "      <th>7</th>\n",
       "      <td>2025-09-07</td>\n",
       "      <td>Independência do Brasil</td>\n",
       "      <td>national</td>\n",
       "    </tr>\n",
       "    <tr>\n",
       "      <th>8</th>\n",
       "      <td>2025-10-12</td>\n",
       "      <td>Nossa Senhora Aparecida</td>\n",
       "      <td>national</td>\n",
       "    </tr>\n",
       "    <tr>\n",
       "      <th>9</th>\n",
       "      <td>2025-11-02</td>\n",
       "      <td>Finados</td>\n",
       "      <td>national</td>\n",
       "    </tr>\n",
       "    <tr>\n",
       "      <th>10</th>\n",
       "      <td>2025-11-15</td>\n",
       "      <td>Proclamação da República</td>\n",
       "      <td>national</td>\n",
       "    </tr>\n",
       "    <tr>\n",
       "      <th>11</th>\n",
       "      <td>2025-11-20</td>\n",
       "      <td>Dia da consciência negra</td>\n",
       "      <td>national</td>\n",
       "    </tr>\n",
       "    <tr>\n",
       "      <th>12</th>\n",
       "      <td>2025-12-25</td>\n",
       "      <td>Natal</td>\n",
       "      <td>national</td>\n",
       "    </tr>\n",
       "  </tbody>\n",
       "</table>\n",
       "</div>"
      ],
      "text/plain": [
       "          date                      name      type\n",
       "0   2025-01-01  Confraternização mundial  national\n",
       "1   2025-03-04                  Carnaval  national\n",
       "2   2025-04-18         Sexta-feira Santa  national\n",
       "3   2025-04-20                    Páscoa  national\n",
       "4   2025-04-21                Tiradentes  national\n",
       "5   2025-05-01           Dia do trabalho  national\n",
       "6   2025-06-19            Corpus Christi  national\n",
       "7   2025-09-07   Independência do Brasil  national\n",
       "8   2025-10-12   Nossa Senhora Aparecida  national\n",
       "9   2025-11-02                   Finados  national\n",
       "10  2025-11-15  Proclamação da República  national\n",
       "11  2025-11-20  Dia da consciência negra  national\n",
       "12  2025-12-25                     Natal  national"
      ]
     },
     "execution_count": 15,
     "metadata": {},
     "output_type": "execute_result"
    }
   ],
   "source": [
    "df_feriados"
   ]
  },
  {
   "cell_type": "markdown",
   "id": "f0464d71",
   "metadata": {},
   "source": [
    "# CNPJ"
   ]
  },
  {
   "cell_type": "code",
   "execution_count": 20,
   "id": "fb04cb10",
   "metadata": {},
   "outputs": [],
   "source": [
    "cnpj_json = requests.get(\"https://brasilapi.com.br/api/cnpj/v1/03361252000134\").json()"
   ]
  },
  {
   "cell_type": "code",
   "execution_count": 21,
   "id": "b1ebbb32",
   "metadata": {},
   "outputs": [
    {
     "data": {
      "text/plain": [
       "{'uf': 'SP',\n",
       " 'cep': '06233903',\n",
       " 'qsa': [{'pais': 'ESTADOS UNIDOS',\n",
       "   'nome_socio': 'MERCADOLIBRE, INC.',\n",
       "   'codigo_pais': 249,\n",
       "   'faixa_etaria': 'Não se aplica',\n",
       "   'cnpj_cpf_do_socio': '05528233000185',\n",
       "   'qualificacao_socio': 'Sócio Pessoa Jurídica Domiciliado no Exterior',\n",
       "   'codigo_faixa_etaria': 0,\n",
       "   'data_entrada_sociedade': '1999-10-29',\n",
       "   'identificador_de_socio': 1,\n",
       "   'cpf_representante_legal': '***094518**',\n",
       "   'nome_representante_legal': 'RICARDO LAGRECA SIQUEIRA',\n",
       "   'codigo_qualificacao_socio': 37,\n",
       "   'qualificacao_representante_legal': 'Procurador',\n",
       "   'codigo_qualificacao_representante_legal': 17},\n",
       "  {'pais': None,\n",
       "   'nome_socio': 'FERNANDO YUNES ELIAS FRAIHA',\n",
       "   'codigo_pais': None,\n",
       "   'faixa_etaria': 'Entre 41 a 50 anos',\n",
       "   'cnpj_cpf_do_socio': '***126658**',\n",
       "   'qualificacao_socio': 'Administrador',\n",
       "   'codigo_faixa_etaria': 5,\n",
       "   'data_entrada_sociedade': '2024-01-23',\n",
       "   'identificador_de_socio': 2,\n",
       "   'cpf_representante_legal': '***000000**',\n",
       "   'nome_representante_legal': '',\n",
       "   'codigo_qualificacao_socio': 5,\n",
       "   'qualificacao_representante_legal': 'Não informada',\n",
       "   'codigo_qualificacao_representante_legal': 0},\n",
       "  {'pais': None,\n",
       "   'nome_socio': 'JOAO PAULO SANTIN LIMA',\n",
       "   'codigo_pais': None,\n",
       "   'faixa_etaria': 'Entre 31 a 40 anos',\n",
       "   'cnpj_cpf_do_socio': '***214259**',\n",
       "   'qualificacao_socio': 'Administrador',\n",
       "   'codigo_faixa_etaria': 4,\n",
       "   'data_entrada_sociedade': '2025-05-13',\n",
       "   'identificador_de_socio': 2,\n",
       "   'cpf_representante_legal': '***000000**',\n",
       "   'nome_representante_legal': '',\n",
       "   'codigo_qualificacao_socio': 5,\n",
       "   'qualificacao_representante_legal': 'Não informada',\n",
       "   'codigo_qualificacao_representante_legal': 0}],\n",
       " 'cnpj': '03361252000134',\n",
       " 'pais': None,\n",
       " 'email': None,\n",
       " 'porte': 'DEMAIS',\n",
       " 'bairro': 'BONFIM',\n",
       " 'numero': '3003',\n",
       " 'ddd_fax': '1155053990',\n",
       " 'municipio': 'OSASCO',\n",
       " 'logradouro': 'DAS NACOES UNIDAS 3000',\n",
       " 'cnae_fiscal': 6463800,\n",
       " 'codigo_pais': None,\n",
       " 'complemento': ' PARTE D',\n",
       " 'codigo_porte': 5,\n",
       " 'razao_social': 'MERCADOLIVRE.COM ATIVIDADES DE INTERNET LTDA',\n",
       " 'nome_fantasia': '',\n",
       " 'capital_social': 10000000,\n",
       " 'ddd_telefone_1': '1125434155',\n",
       " 'ddd_telefone_2': '',\n",
       " 'opcao_pelo_mei': None,\n",
       " 'codigo_municipio': 6789,\n",
       " 'cnaes_secundarios': [{'codigo': 0, 'descricao': ''}],\n",
       " 'natureza_juridica': 'Sociedade Empresária Limitada',\n",
       " 'regime_tributario': [{'ano': 2015,\n",
       "   'cnpj_da_scp': None,\n",
       "   'forma_de_tributacao': 'LUCRO REAL',\n",
       "   'quantidade_de_escrituracoes': 1},\n",
       "  {'ano': 2016,\n",
       "   'cnpj_da_scp': None,\n",
       "   'forma_de_tributacao': 'LUCRO REAL',\n",
       "   'quantidade_de_escrituracoes': 1},\n",
       "  {'ano': 2017,\n",
       "   'cnpj_da_scp': None,\n",
       "   'forma_de_tributacao': 'LUCRO REAL',\n",
       "   'quantidade_de_escrituracoes': 1},\n",
       "  {'ano': 2018,\n",
       "   'cnpj_da_scp': None,\n",
       "   'forma_de_tributacao': 'LUCRO REAL',\n",
       "   'quantidade_de_escrituracoes': 1},\n",
       "  {'ano': 2019,\n",
       "   'cnpj_da_scp': None,\n",
       "   'forma_de_tributacao': 'LUCRO REAL',\n",
       "   'quantidade_de_escrituracoes': 1},\n",
       "  {'ano': 2020,\n",
       "   'cnpj_da_scp': None,\n",
       "   'forma_de_tributacao': 'LUCRO REAL',\n",
       "   'quantidade_de_escrituracoes': 1},\n",
       "  {'ano': 2021,\n",
       "   'cnpj_da_scp': None,\n",
       "   'forma_de_tributacao': 'LUCRO REAL',\n",
       "   'quantidade_de_escrituracoes': 1},\n",
       "  {'ano': 2022,\n",
       "   'cnpj_da_scp': None,\n",
       "   'forma_de_tributacao': 'LUCRO REAL',\n",
       "   'quantidade_de_escrituracoes': 2},\n",
       "  {'ano': 2023,\n",
       "   'cnpj_da_scp': None,\n",
       "   'forma_de_tributacao': 'LUCRO REAL',\n",
       "   'quantidade_de_escrituracoes': 1}],\n",
       " 'situacao_especial': '',\n",
       " 'opcao_pelo_simples': None,\n",
       " 'situacao_cadastral': 2,\n",
       " 'data_opcao_pelo_mei': None,\n",
       " 'data_exclusao_do_mei': None,\n",
       " 'cnae_fiscal_descricao': 'Outras sociedades de participação, exceto holdings',\n",
       " 'codigo_municipio_ibge': 3534401,\n",
       " 'data_inicio_atividade': '1999-08-18',\n",
       " 'data_situacao_especial': None,\n",
       " 'data_opcao_pelo_simples': None,\n",
       " 'data_situacao_cadastral': '2005-11-03',\n",
       " 'nome_cidade_no_exterior': '',\n",
       " 'codigo_natureza_juridica': 2062,\n",
       " 'data_exclusao_do_simples': None,\n",
       " 'motivo_situacao_cadastral': 0,\n",
       " 'ente_federativo_responsavel': '',\n",
       " 'identificador_matriz_filial': 1,\n",
       " 'qualificacao_do_responsavel': 5,\n",
       " 'descricao_situacao_cadastral': 'ATIVA',\n",
       " 'descricao_tipo_de_logradouro': 'AVENIDA',\n",
       " 'descricao_motivo_situacao_cadastral': 'SEM MOTIVO',\n",
       " 'descricao_identificador_matriz_filial': 'MATRIZ'}"
      ]
     },
     "execution_count": 21,
     "metadata": {},
     "output_type": "execute_result"
    }
   ],
   "source": [
    "cnpj_json"
   ]
  },
  {
   "cell_type": "code",
   "execution_count": null,
   "id": "80358e3a",
   "metadata": {},
   "outputs": [],
   "source": []
  }
 ],
 "metadata": {
  "kernelspec": {
   "display_name": "env",
   "language": "python",
   "name": "python3"
  },
  "language_info": {
   "codemirror_mode": {
    "name": "ipython",
    "version": 3
   },
   "file_extension": ".py",
   "mimetype": "text/x-python",
   "name": "python",
   "nbconvert_exporter": "python",
   "pygments_lexer": "ipython3",
   "version": "3.11.7"
  }
 },
 "nbformat": 4,
 "nbformat_minor": 5
}
